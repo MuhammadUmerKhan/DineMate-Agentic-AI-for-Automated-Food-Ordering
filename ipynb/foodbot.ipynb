{
 "cells": [
  {
   "cell_type": "markdown",
   "id": "17d917dd",
   "metadata": {},
   "source": [
    "# **<center> `Note`: Move Notebook to `scripts` folder**"
   ]
  },
  {
   "cell_type": "markdown",
   "id": "814f6aff",
   "metadata": {},
   "source": [
    "## **DineMate Foodbot**\n",
    "\n",
    "DineMate is an AI-powered restaurant assistant that handles food orders efficiently. It uses LangGraph\n",
    "for state management, LangChain for LLM integration, and SQLite for storing orders. This script provides\n",
    "a CLI interface for users to interact with the bot, view the menu, place orders, and track orders.\n",
    "\n",
    "## **Features**\n",
    "- Fetches and displays the restaurant menu.\n",
    "- Processes user orders, calculates totals, and saves them to a database.\n",
    "- Supports order modification/cancellation within 10 minutes.\n",
    "- Provides polite and emoji-enhanced responses for a user-friendly experience.\n",
    "\n",
    "## **Dependencies**\n",
    "- `langchain_groq`: For LLM integration with Grok.\n",
    "- `langgraph`: For state management and workflow orchestration.\n",
    "- `sqlite3`: For database operations.\n",
    "- `python-dotenv`: For environment variable management.\n",
    "- `utils`: Custom module for LLM configuration (assumed to exist).\n",
    "- `SQLLITE_db`: Custom module for database operations (assumed to exist).\n",
    "\n",
    "## **Setup**\n",
    "1. Ensure all dependencies are installed: `pip install langchain-groq langgraph python-dotenv`.\n",
    "2. Create a `.env` file with your LLM API key (e.g., `GROQ_API_KEY=your_key`).\n",
    "3. Ensure `utils.py` and `SQLLITE_db.py` are available in the same directory.\n",
    "\n",
    "## **Usage**\n",
    "Run the script: `python foodbot.py`\n",
    "- Type commands like \"show menu\", \"order 1 pepsi\", or \"confirm order\".\n",
    "- Type \"exit\" or \"quit\" to stop the program."
   ]
  },
  {
   "cell_type": "code",
   "execution_count": 1,
   "id": "8edb96d7",
   "metadata": {},
   "outputs": [],
   "source": [
    "import warnings\n",
    "from IPython.display import display, Image\n",
    "from dotenv import load_dotenv\n",
    "from langgraph.checkpoint.memory import MemorySaver\n",
    "from streaming import StreamHandler, stream_graph_updates\n",
    "from graph import build_graph\n",
    "from tools import *\n",
    "\n",
    "# Suppress warnings for cleaner output\n",
    "warnings.filterwarnings(\"ignore\")\n",
    "\n",
    "# Load environment variables\n",
    "load_dotenv()\n",
    "\n",
    "# Initialize memory for state persistence\n",
    "memory = MemorySaver()"
   ]
  },
  {
   "cell_type": "code",
   "execution_count": 2,
   "id": "79657c28",
   "metadata": {},
   "outputs": [
    {
     "data": {
      "image/jpeg": "[encoded data removed]",
      "text/plain": [
       "<IPython.core.display.Image object>"
      ]
     },
     "metadata": {},
     "output_type": "display_data"
    }
   ],
   "source": [
    "graphs = build_graph()\n",
    "display(Image(graphs.get_graph().draw_mermaid_png()))"
   ]
  },
  {
   "cell_type": "code",
   "execution_count": 3,
   "id": "716bb796",
   "metadata": {},
   "outputs": [
    {
     "data": {
      "text/plain": [
       "'{\"Cheese Burger\":6.0,\"Chicken Burger\":6.99,\"Veggie Burger\":5.49,\"Pepperoni Pizza\":12.99,\"Margherita Pizza\":11.49,\"BBQ Chicken Pizza\":13.99,\"Grilled Chicken Sandwich\":7.99,\"Club Sandwich\":6.99,\"Spaghetti Carbonara\":9.99,\"Fettuccine Alfredo\":10.49,\"Tandoori Chicken\":11.99,\"Butter Chicken\":12.49,\"Beef Steak\":15.99,\"Chicken Biryani\":8.99,\"Mutton Biryani\":10.99,\"Prawn Curry\":13.49,\"Fish and Chips\":9.49,\"French Fries\":3.99,\"Garlic Bread\":4.49,\"Chocolate Brownie\":5.49,\"Vanilla Ice Cream\":3.99,\"Strawberry Shake\":4.99,\"Mango Smoothie\":5.49,\"Coca-Cola\":2.49,\"Pepsi\":2.49,\"Fresh Orange Juice\":4.99,\"Zinger burger\":2.99}'"
      ]
     },
     "execution_count": 3,
     "metadata": {},
     "output_type": "execute_result"
    }
   ],
   "source": [
    "get_menu()"
   ]
  },
  {
   "cell_type": "code",
   "execution_count": 4,
   "id": "27aea0db",
   "metadata": {},
   "outputs": [
    {
     "data": {
      "text/plain": [
       "'Status: Pending, Delivery: 01:41 PM'"
      ]
     },
     "execution_count": 4,
     "metadata": {},
     "output_type": "execute_result"
    }
   ],
   "source": [
    "check_order_status('353')"
   ]
  },
  {
   "cell_type": "code",
   "execution_count": 5,
   "id": "04005f85",
   "metadata": {},
   "outputs": [
    {
     "data": {
      "text/plain": [
       "'Cannot cancel: past 10-min window.'"
      ]
     },
     "execution_count": 5,
     "metadata": {},
     "output_type": "execute_result"
    }
   ],
   "source": [
    "cancel_order('345')"
   ]
  },
  {
   "cell_type": "code",
   "execution_count": 6,
   "id": "1d152ceb",
   "metadata": {},
   "outputs": [
    {
     "name": "stdout",
     "output_type": "stream",
     "text": [
      "Your order ID is353.\n"
     ]
    }
   ],
   "source": [
    "config1 = { 'configurable': { 'thread_id': '1'} }\n",
    "user_input = \"what's my order id?\"\n",
    "state = graphs.invoke(\n",
    "        {\"messages\": [{\"role\": \"user\", \"content\": user_input}]},\n",
    "        config=config1\n",
    "    )\n",
    "print(state[\"messages\"][-1].content)"
   ]
  },
  {
   "cell_type": "code",
   "execution_count": 30,
   "id": "b3ab058f",
   "metadata": {},
   "outputs": [],
   "source": [
    "# config1 = { 'configurable': { 'thread_id': '1'} }\n",
    "# user_input = \"my order id is 345, get item i have ordered\"\n",
    "# state = graphs.invoke(\n",
    "#         {\"messages\": [{\"role\": \"user\", \"content\": user_input}]},\n",
    "#         config=config1\n",
    "#     )\n",
    "# print(state[\"messages\"][-1].content)"
   ]
  },
  {
   "cell_type": "code",
   "execution_count": 27,
   "id": "dc597dce",
   "metadata": {},
   "outputs": [],
   "source": [
    "# config1 = { 'configurable': { 'thread_id': '1'} }\n",
    "# user_input = \"hey i want to modify my order by id is 345 and i want only 10 chicken biryani\"\n",
    "# state = graphs.invoke(\n",
    "#         {\"messages\": [{\"role\": \"user\", \"content\": user_input}]},\n",
    "#         config=config1\n",
    "#     )\n",
    "# print(state[\"messages\"][-1].content)"
   ]
  },
  {
   "cell_type": "code",
   "execution_count": 8,
   "id": "d0b9390f",
   "metadata": {},
   "outputs": [],
   "source": [
    "# # ✅ CLI Chat Loop\n",
    "# config1 = { 'configurable': { 'thread_id': '1'} }\n",
    "# print(\"🍽️ Welcome to DineMate! Type 'exit' to quit.\\n\")\n",
    "\n",
    "# while True:\n",
    "#     user_input = input(\"👤 You: \")\n",
    "#     if user_input.lower() in ['exit', 'quit']:\n",
    "#         print(\"👋 Goodbye! Hope you enjoy your meal!\")\n",
    "#         break\n",
    "\n",
    "#     state = graphs.invoke(\n",
    "#         {\"messages\": [{\"role\": \"user\", \"content\": user_input}]},\n",
    "#         config=config1\n",
    "#     )\n",
    "\n",
    "#     reply = state[\"messages\"][-1].content\n",
    "#     print(f\"🤖 DineMate: {reply}\")"
   ]
  }
 ],
 "metadata": {
  "kernelspec": {
   "display_name": "env",
   "language": "python",
   "name": "python3"
  },
  "language_info": {
   "codemirror_mode": {
    "name": "ipython",
    "version": 3
   },
   "file_extension": ".py",
   "mimetype": "text/x-python",
   "name": "python",
   "nbconvert_exporter": "python",
   "pygments_lexer": "ipython3",
   "version": "3.12.8"
  }
 },
 "nbformat": 4,
 "nbformat_minor": 5
}
